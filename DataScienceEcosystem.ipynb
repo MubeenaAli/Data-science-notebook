{
 "cells": [
  {
   "cell_type": "markdown",
   "id": "1fe4f8c9",
   "metadata": {},
   "source": [
    "# Data Science Tools and Ecosystem"
   ]
  },
  {
   "cell_type": "markdown",
   "id": "4eee6304",
   "metadata": {},
   "source": [
    "**INTRODUCTION**\n",
    "\n",
    "In this notebook,Data Science Tools and Ecosystem are summarized."
   ]
  },
  {
   "cell_type": "markdown",
   "id": "bd7c8f65",
   "metadata": {},
   "source": [
    " **Objectives:**\n",
    "    \n",
    "* List Popular languages of Data Science.\n",
    "* List common libraries are used by Data Scientists.\n",
    "* Data Science Tools.\n",
    "* Evaluating some arithmetic expression in python.\n"
   ]
  },
  {
   "cell_type": "markdown",
   "id": "2115ccec",
   "metadata": {},
   "source": [
    "### Some of the popular languages that Data Scientists use are:\n",
    "\n",
    "1 . Python  \n",
    "2 . Scala  \n",
    "3 . R   "
   ]
  },
  {
   "cell_type": "markdown",
   "id": "cde3ebbc",
   "metadata": {},
   "source": [
    "#### Some of the commonly used libraries used by Data Scientists include:\n",
    " 1. TensorFlow    \n",
    " 2. Scipy    \n",
    " 3. Pandas   \n",
    " 4. Matplotib  \n",
    " 5. Keras  \n",
    " 6. Scikit-learn  \n",
    " 7. pytoarch   \n",
    " "
   ]
  },
  {
   "cell_type": "markdown",
   "id": "a9934083",
   "metadata": {},
   "source": [
    "|Data Science Tools|\n",
    "|---------------------|\n",
    "|Jupyter Notebook|\n",
    "|RStudio|\n",
    "|TensorFlow|"
   ]
  },
  {
   "cell_type": "markdown",
   "id": "45cccfe2",
   "metadata": {},
   "source": [
    "### Below are few examples of evaluating arithmetic expressions in Python\n",
    "\n",
    "1. Addition(+):  \n",
    "   Input = 2+3,   Output = 5    \n",
    "2. Subtraction(-):  \n",
    "   Input = 8-4,  Output = 4\n",
    "3. Multiplication( * ):  \n",
    "   Input = 5*3,  Output=15\n",
    "4. Division(/):  \n",
    "   Input = 15/5,  output=3\n"
   ]
  },
  {
   "cell_type": "code",
   "execution_count": 3,
   "id": "a2ee4700",
   "metadata": {},
   "outputs": [
    {
     "name": "stdout",
     "output_type": "stream",
     "text": [
      "17\n"
     ]
    }
   ],
   "source": [
    "#This a simple arithmetic expression to mutiply then add integers#\n",
    "print((3*4)+5)"
   ]
  },
  {
   "cell_type": "code",
   "execution_count": 4,
   "id": "d068d10b",
   "metadata": {},
   "outputs": [
    {
     "name": "stdout",
     "output_type": "stream",
     "text": [
      "3.3333333333333335\n"
     ]
    }
   ],
   "source": [
    "\n",
    "#This will convert 200 minutes to hours by dividing by 60 #\n",
    "#Hours=Minutes/60#\n",
    "print((200/60))"
   ]
  },
  {
   "cell_type": "markdown",
   "id": "6dd3a69c",
   "metadata": {},
   "source": [
    "## Author\n",
    "    Mubeena Aliyarukunju"
   ]
  }
 ],
 "metadata": {
  "kernelspec": {
   "display_name": "Python 3 (ipykernel)",
   "language": "python",
   "name": "python3"
  },
  "language_info": {
   "codemirror_mode": {
    "name": "ipython",
    "version": 3
   },
   "file_extension": ".py",
   "mimetype": "text/x-python",
   "name": "python",
   "nbconvert_exporter": "python",
   "pygments_lexer": "ipython3",
   "version": "3.11.5"
  }
 },
 "nbformat": 4,
 "nbformat_minor": 5
}
